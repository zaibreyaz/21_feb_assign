{
 "cells": [
  {
   "cell_type": "code",
   "execution_count": null,
   "id": "1e651746-ad04-45e9-9516-df130f13ead9",
   "metadata": {},
   "outputs": [],
   "source": [
    "\"\"\"Q1. What is Web Scraping? Why is it Used? Give three areas where Web Scraping is used to get data.\n",
    "\n",
    "    Ans: Web scraping is the process of extracting data from websites using automated software tools. It involves analyzing the HTML structure \n",
    "         of a website and retrieving specific data points such as text, images, or links.\n",
    "\n",
    "         Web scraping is used for various purposes, such as market research, price monitoring, content aggregation, and lead generation. \n",
    "         It enables companies to gather large amounts of data quickly and efficiently, which can help them make informed decisions and gain a competitive advantage.\n",
    "\n",
    "         Three areas where web scraping is commonly used include:\n",
    "         E-commerce: Web scraping can be used to collect pricing information, product descriptions, and customer reviews from e-commerce sites.\n",
    "         Research: Web scraping can be used to gather data for academic research, such as analyzing social media trends, tracking online sentiment, and monitoring news articles.\n",
    "         Real estate: Web scraping can be used to collect data on real estate listings, including property details, pricing information, and location data.\n",
    "\"\"\""
   ]
  },
  {
   "cell_type": "code",
   "execution_count": null,
   "id": "921ccb2a-ebe2-453d-9211-3bd257d286e5",
   "metadata": {},
   "outputs": [],
   "source": [
    "\"\"\"Q2. What are the different methods used for Web Scraping?\n",
    "\n",
    "    Ans: There are various methods used for web scraping, including:\n",
    "            1.Parsing HTML: Extracting data from the HTML code of a website.\n",
    "            2.Using APIs: Accessing data through an API (Application Programming Interface) provided by the website.\n",
    "            3.Automated tools: Using specialized software or web browser extensions to scrape data from a website.\n",
    "            4.Manual extraction: Manually copying and pasting data from a website into a spreadsheet or other data storage tool.\n",
    "\"\"\""
   ]
  },
  {
   "cell_type": "code",
   "execution_count": null,
   "id": "1e993a92-9676-4b06-b71a-67dc1ed22815",
   "metadata": {},
   "outputs": [],
   "source": [
    "\"\"\"Q3. What is Beautiful Soup? Why is it used?\n",
    "\n",
    "    Ans: Beautiful Soup is a Python library that is used to extract data from HTML and XML files. It provides a simple way to navigate and search the HTML code of a website, \n",
    "        allowing users to extract specific data points such as text, images, or links. Beautiful Soup is used by programmers and data analysts to scrape data from websites and \n",
    "        automate data collection processes.\n",
    "\"\"\""
   ]
  },
  {
   "cell_type": "code",
   "execution_count": null,
   "id": "ae651ce4-0c16-4596-a684-8d135f06e2e9",
   "metadata": {},
   "outputs": [],
   "source": [
    "\"\"\"Q4. Why is flask used in this Web Scraping project?\n",
    "\n",
    "    Ans: Flask is a lightweight web framework used to build web applications in Python. In the context of a web scraping project, \n",
    "         Flask can be used to create a user interface for the scraping tool, allowing users to input parameters and view the results of the scraping process. \n",
    "         Flask simplifies the process of building a web interface for a web scraping project, making it more accessible for users without technical knowledge.\n",
    "\"\"\""
   ]
  },
  {
   "cell_type": "code",
   "execution_count": null,
   "id": "13d7a20e-f931-488e-b9c9-53941902d1b0",
   "metadata": {},
   "outputs": [],
   "source": [
    "\"\"\"Q5. Write the names of AWS services used in this project. Also, explain the use of each service.\n",
    "\n",
    "    Ans: Amazon Elastic Beanstalk and AWS CodePipeline is used in this project.\n",
    "        \n",
    "        1. AWS CodePipeline: A continuous delivery service for building, testing, and deploying applications.\n",
    "        2. Amazon Elastic Beanstalk is a fully managed platform that simplifies the deployment and scaling of \n",
    "            web applications in multiple languages.\n",
    "\"\"\""
   ]
  }
 ],
 "metadata": {
  "kernelspec": {
   "display_name": "Python 3 (ipykernel)",
   "language": "python",
   "name": "python3"
  },
  "language_info": {
   "codemirror_mode": {
    "name": "ipython",
    "version": 3
   },
   "file_extension": ".py",
   "mimetype": "text/x-python",
   "name": "python",
   "nbconvert_exporter": "python",
   "pygments_lexer": "ipython3",
   "version": "3.10.8"
  }
 },
 "nbformat": 4,
 "nbformat_minor": 5
}
